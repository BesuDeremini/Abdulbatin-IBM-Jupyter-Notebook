{
 "cells": [
  {
   "cell_type": "markdown",
   "metadata": {},
   "source": [
    "<center>\n",
    "    <img src=\"https://s3-api.us-geo.objectstorage.softlayer.net/cf-courses-data/CognitiveClass/Logos/organization_logo/organization_logo.png\" width=\"300\" alt=\"cognitiveclass.ai logo\"  />\n",
    "</center>\n"
   ]
  },
  {
   "cell_type": "markdown",
   "metadata": {},
   "source": [
    "#### Add your code below following the instructions given in the course\n"
   ]
  },
  {
   "cell_type": "markdown",
   "metadata": {},
   "source": [
    "<h1>My Jupyter Notebook on IBM Watson Studio<h1>"
   ]
  },
  {
   "cell_type": "markdown",
   "metadata": {},
   "source": [
    "__Animashaun Abdulbatin Eniayo__               \n",
    "Data Scientist\n"
   ]
  },
  {
   "cell_type": "markdown",
   "metadata": {},
   "source": [
    "_I am interested in data science because of the vast number of opportunities available in the field_"
   ]
  },
  {
   "cell_type": "markdown",
   "metadata": {},
   "source": [
    "<h3>This code is meant to multiply two numbers<h3>"
   ]
  },
  {
   "cell_type": "code",
   "execution_count": 1,
   "metadata": {},
   "outputs": [
    {
     "name": "stdout",
     "output_type": "stream",
     "text": [
      "25\n"
     ]
    }
   ],
   "source": [
    "print(5*5)"
   ]
  },
  {
   "cell_type": "markdown",
   "metadata": {},
   "source": [
    "*** \n",
    "***\n",
    "***\n",
    "\n",
    "* This is the first item of a bulleted list.\n",
    "* This is the second item of a bulleted list.\n",
    "* This is the third item of a bulleted list\n",
    "1. This is the first item of a numbered list.\n",
    "2. This is the second item of a numbered list.\n",
    "3. This is the third item of a numbered list.\n",
    "\n",
    "\n",
    "| First Table Column 1 | First Table Column 2 | First Table Column 3\n",
    "| --- | --- | --- |\n",
    "| 1 | 2 | 3 | \n",
    "\n",
    "| Second Table Column 1 | Second Table Column 2 | Second Table Column 3\n",
    "| --- | --- | --- |\n",
    "| 4 | 5 | 6 | \n",
    "\n",
    "| Third Table Column 1 | Third Table Column 2 | Third Table Column 3\n",
    "| --- | --- | --- |\n",
    "| 7 | 8 | 9 | \n",
    "\n",
    "\n",
    "__[This takes you to Github](https://github.com/join)__\n",
    "__[This takes you to Twitter](https://twitter.com/login)__\n",
    "__[This takes you to Wikipedia](https://www.wikipedia.org/)__\n",
    "\n",
    "\n",
    "<img src=\"https://i.pinimg.com/564x/7f/26/e7/7f26e71b2c84e6b16d4f6d3fd8a58bca.jpg\" alt=\"Cute puppy\" title=\"This is a cute puppy\" />\n",
    "<img src=\"https://images.pexels.com/photos/158971/pexels-photo-158971.jpeg\" alt=\"Race car\" title=\"This is a race car\" />\n",
    "<img src=\"https://www.planetware.com/photos-large/F/eiffel-tower.jpg\" alt=\"Eiffel Tower\" title=\"This is the Eiffel Tower\" />\n",
    "\n",
    "\n",
    "~~~python\n",
    "print(\"This is the first syntax highlight\")\n",
    "print(\"This is the second syntax highlight\")\n",
    "print(\"This is the third syntax highlight\")\n",
    "~~~\n",
    "\n",
    "<blockquote>This is the first blockquote</blockquote>\n",
    "<blockquote>This is the second blockquote</blockquote>\n",
    "<blockquote>This is the third blockquote</blockquote>\n",
    "\n",
    "<s>First strikethrough</s>\n",
    "<s>Second strikethrough</s>\n",
    "<s>Third strikethrough</s>\n",
    "\n"
   ]
  },
  {
   "cell_type": "code",
   "execution_count": null,
   "metadata": {},
   "outputs": [],
   "source": []
  }
 ],
 "metadata": {
  "kernelspec": {
   "display_name": "Python",
   "language": "python",
   "name": "conda-env-python-py"
  },
  "language_info": {
   "codemirror_mode": {
    "name": "ipython",
    "version": 3
   },
   "file_extension": ".py",
   "mimetype": "text/x-python",
   "name": "python",
   "nbconvert_exporter": "python",
   "pygments_lexer": "ipython3",
   "version": "3.7.12"
  }
 },
 "nbformat": 4,
 "nbformat_minor": 4
}
